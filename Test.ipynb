{
 "cells": [
  {
   "cell_type": "code",
   "execution_count": 1,
   "id": "726c3771",
   "metadata": {},
   "outputs": [
    {
     "name": "stderr",
     "output_type": "stream",
     "text": [
      "c:\\users\\kushagra\\appdata\\local\\programs\\python\\python38\\lib\\site-packages\\gensim\\similarities\\__init__.py:15: UserWarning: The gensim.similarities.levenshtein submodule is disabled, because the optional Levenshtein package <https://pypi.org/project/python-Levenshtein/> is unavailable. Install Levenhstein (e.g. `pip install python-Levenshtein`) to suppress this warning.\n",
      "  warnings.warn(msg)\n"
     ]
    }
   ],
   "source": [
    "import pandas as pd\n",
    "import os\n",
    "import numpy as np\n",
    "from sklearn.model_selection import train_test_split\n",
    "\n",
    "import gensim\n",
    "from gensim.models.word2vec import Word2Vec\n",
    "import gensim.downloader as api\n",
    "\n",
    "from keras.utils.np_utils import to_categorical\n",
    "from keras.models import load_model\n",
    "import matplotlib.pyplot as plt \n",
    "import keras\n",
    "from time import time"
   ]
  },
  {
   "cell_type": "code",
   "execution_count": 2,
   "id": "ab45df6a",
   "metadata": {},
   "outputs": [],
   "source": [
    "test_data = pd.read_csv(\"data/preprocessed_train.csv\")\n",
    "test_data.text = test_data.selected_text.map(lambda x:str(x))\n",
    "test_data.sentiment = test_data.sentiment.astype(\"category\")\n",
    "test_data.sentiment = test_data.sentiment.cat.codes"
   ]
  },
  {
   "cell_type": "code",
   "execution_count": 3,
   "id": "094738b8",
   "metadata": {},
   "outputs": [],
   "source": [
    "#tokenizing and padding\n",
    "from keras.preprocessing.text import Tokenizer\n",
    "from keras.preprocessing.sequence import pad_sequences\n",
    "\n",
    "tokenizer = Tokenizer(num_words=5000)\n",
    "tokenizer.fit_on_texts(test_data.text.values)\n",
    "\n",
    "maxlen = 100"
   ]
  },
  {
   "cell_type": "code",
   "execution_count": 4,
   "id": "fcd61c43",
   "metadata": {},
   "outputs": [],
   "source": [
    "#Load the Model\n",
    "model = load_model('cnn_model.h5')"
   ]
  },
  {
   "cell_type": "code",
   "execution_count": 5,
   "id": "91a4ba75",
   "metadata": {},
   "outputs": [
    {
     "name": "stdout",
     "output_type": "stream",
     "text": [
      "0: Negative\n",
      "1: Neutral\n",
      "2: Positive\n",
      "\n",
      "[0 1 0 2 1 2 2]\n"
     ]
    }
   ],
   "source": [
    "inp = ['Disappointing performance by CSK today',\n",
    "'I`d have responded, if I were going',\n",
    "'I hate the rain',\n",
    "'I love the music',\n",
    "'it was just the handle i guess',\n",
    "'Pleasure to watch Arsenal play like this',\n",
    "'The weather is very good today'\n",
    "]\n",
    "X_test1 = tokenizer.texts_to_sequences(inp)\n",
    "X_test1 = pad_sequences(X_test1, padding='post', maxlen = maxlen)\n",
    "print('0: Negative\\n1: Neutral\\n2: Positive\\n')\n",
    "print(np.argmax(model.predict(X_test1), axis = -1))"
   ]
  }
 ],
 "metadata": {
  "kernelspec": {
   "display_name": "Python 3",
   "language": "python",
   "name": "python3"
  },
  "language_info": {
   "codemirror_mode": {
    "name": "ipython",
    "version": 3
   },
   "file_extension": ".py",
   "mimetype": "text/x-python",
   "name": "python",
   "nbconvert_exporter": "python",
   "pygments_lexer": "ipython3",
   "version": "3.8.10"
  }
 },
 "nbformat": 4,
 "nbformat_minor": 5
}
