{
 "cells": [
  {
   "cell_type": "code",
   "execution_count": 1,
   "metadata": {
    "id": "TKTziNf2eq_j"
   },
   "outputs": [],
   "source": [
    "import numpy as np\n",
    "import pandas as pd\n",
    "from sklearn.model_selection import train_test_split\n",
    "import re\n",
    "from matplotlib import pyplot as plt\n",
    "import nltk\n",
    "from nltk.tokenize import RegexpTokenizer\n",
    "from nltk.stem import WordNetLemmatizer\n",
    "from nltk.corpus import stopwords\n",
    "import string\n",
    "import unicodedata"
   ]
  },
  {
   "cell_type": "code",
   "execution_count": null,
   "metadata": {
    "id": "I52HikOxoXDh"
   },
   "outputs": [],
   "source": [
    "! sudo apt install openjdk-8-jdk\n",
    "! sudo update-alternatives --set java /usr/lib/jvm/java-8-openjdk-amd64/jre/bin/java\n",
    "! pip install language-check\n",
    "! pip install pycontractions"
   ]
  },
  {
   "cell_type": "code",
   "execution_count": null,
   "metadata": {
    "id": "wgUmGStToZhZ"
   },
   "outputs": [],
   "source": [
    "from pycontractions import Contractions"
   ]
  },
  {
   "cell_type": "code",
   "execution_count": null,
   "metadata": {
    "id": "y_7oAsQjqU3s"
   },
   "outputs": [],
   "source": [
    "pip install autocorrect"
   ]
  },
  {
   "cell_type": "code",
   "execution_count": null,
   "metadata": {
    "id": "ksgf1FsDerB8"
   },
   "outputs": [],
   "source": [
    "nltk.download('stopwords')\n",
    "nltk.download('wordnet')\n",
    "nltk.download('punkt')"
   ]
  },
  {
   "cell_type": "code",
   "execution_count": 2,
   "metadata": {
    "id": "cVqcGbW_erET"
   },
   "outputs": [],
   "source": [
    "df = pd.read_csv(\"data/train.csv\")"
   ]
  },
  {
   "cell_type": "code",
   "execution_count": 9,
   "metadata": {
    "colab": {
     "base_uri": "https://localhost:8080/",
     "height": 402
    },
    "executionInfo": {
     "elapsed": 590,
     "status": "ok",
     "timestamp": 1607679866544,
     "user": {
      "displayName": "Rohith Teja",
      "photoUrl": "https://lh3.googleusercontent.com/-nt8x4joQmgY/AAAAAAAAAAI/AAAAAAAAAvg/AbgIIUozOq0/s64/photo.jpg",
      "userId": "01155222072916958278"
     },
     "user_tz": -60
    },
    "id": "Xf0Zc7I5erG8",
    "outputId": "f9b4a71a-1d12-4b47-d6f4-58c3a2fb52b9"
   },
   "outputs": [
    {
     "data": {
      "text/plain": [
       "0               I`d have responded, if I were going\n",
       "1     Sooo SAD I will miss you here in San Diego!!!\n",
       "2                         my boss is bullying me...\n",
       "3                    what interview! leave me alone\n",
       "Name: text, dtype: object"
      ]
     },
     "execution_count": 9,
     "metadata": {},
     "output_type": "execute_result"
    }
   ],
   "source": [
    "df.text[0:4]"
   ]
  },
  {
   "cell_type": "code",
   "execution_count": null,
   "metadata": {
    "id": "ePNBm7GyerNe"
   },
   "outputs": [],
   "source": [
    "url = r'''(?i)\\b((?:https?://|www\\d{0,3}[.]|[a-z0-9.\\-]+[.][a-z]{2,4}/)(?:[^\\s()<>]+|\\(([^\\s()<>]+|(\\([^\\s()<>]+\\)))*\\))+(?:\\(([^\\s()<>]+|(\\([^\\s()<>]+\\)))*\\)|[^\\s`!()\\[\\]{};:'\".,<>?«»“”‘’]))'''"
   ]
  },
  {
   "cell_type": "code",
   "execution_count": null,
   "metadata": {
    "id": "oqo-1H6S7ZtW"
   },
   "outputs": [],
   "source": [
    "#for text\n",
    "\n",
    "df.text = df.text.map(lambda x:str(x).lower()) #lower case\n",
    "df.text = df.text.map(lambda x:re.sub(r\"\\b[^\\s]+@[^\\s]+[.][^\\s]+\\b\", \"\", x)) #email\n",
    "df.text = df.text.map(lambda x:re.sub(url, \"\", x)) #url\n",
    "df.text = df.text.map(lambda x:re.sub(r'[^a-zA-z.,!?/:;\\\"\\'\\s]', \"\", x)) #numbers\n",
    "df.text = df.text.map(lambda x:re.sub(r'^\\s*|\\s\\s*', ' ', x).strip()) #white space\n",
    "df.text = df.text.map(lambda x:''.join([c for c in x if c not in string.punctuation])) #punctuations\n",
    "df.text = df.text.map(lambda x:re.sub(r'[^a-zA-z0-9.,!?/:;\\\"\\'\\s]', '', x)) #special char\n",
    "df.text = df.text.map(lambda x:unicodedata.normalize('NFKD', x).encode('ascii', 'ignore').decode('utf-8', 'ignore')) #unicode"
   ]
  },
  {
   "cell_type": "code",
   "execution_count": null,
   "metadata": {
    "id": "_CMf_Ip1LMat"
   },
   "outputs": [],
   "source": [
    "#for selected_text\n",
    "\n",
    "df.selected_text = df.selected_text.map(lambda x:str(x).lower()) #lower case\n",
    "df.selected_text = df.selected_text.map(lambda x:re.sub(r\"\\b[^\\s]+@[^\\s]+[.][^\\s]+\\b\", \"\", x)) #email\n",
    "df.selected_text = df.selected_text.map(lambda x:re.sub(url, \"\", x)) #url\n",
    "df.selected_text = df.selected_text.map(lambda x:re.sub(r'[^a-zA-z.,!?/:;\\\"\\'\\s]', \"\", x)) #numbers\n",
    "df.selected_text = df.selected_text.map(lambda x:re.sub(r'^\\s*|\\s\\s*', ' ', x).strip()) #white space\n",
    "df.selected_text = df.selected_text.map(lambda x:''.join([c for c in x if c not in string.punctuation])) #punctuations\n",
    "df.selected_text = df.selected_text.map(lambda x:re.sub(r'[^a-zA-z0-9.,!?/:;\\\"\\'\\s]', '', x)) #special char\n",
    "df.selected_text = df.selected_text.map(lambda x:unicodedata.normalize('NFKD', x).encode('ascii', 'ignore').decode('utf-8', 'ignore')) #unicode"
   ]
  },
  {
   "cell_type": "code",
   "execution_count": null,
   "metadata": {
    "colab": {
     "base_uri": "https://localhost:8080/",
     "height": 402
    },
    "executionInfo": {
     "elapsed": 863,
     "status": "ok",
     "timestamp": 1607679897526,
     "user": {
      "displayName": "Rohith Teja",
      "photoUrl": "https://lh3.googleusercontent.com/-nt8x4joQmgY/AAAAAAAAAAI/AAAAAAAAAvg/AbgIIUozOq0/s64/photo.jpg",
      "userId": "01155222072916958278"
     },
     "user_tz": -60
    },
    "id": "GHmT9315oNHv",
    "outputId": "bc359afa-f863-47ad-fca3-0d7df8b9df32"
   },
   "outputs": [
    {
     "data": {
      "text/html": [
       "<div>\n",
       "<style scoped>\n",
       "    .dataframe tbody tr th:only-of-type {\n",
       "        vertical-align: middle;\n",
       "    }\n",
       "\n",
       "    .dataframe tbody tr th {\n",
       "        vertical-align: top;\n",
       "    }\n",
       "\n",
       "    .dataframe thead th {\n",
       "        text-align: right;\n",
       "    }\n",
       "</style>\n",
       "<table border=\"1\" class=\"dataframe\">\n",
       "  <thead>\n",
       "    <tr style=\"text-align: right;\">\n",
       "      <th></th>\n",
       "      <th>textID</th>\n",
       "      <th>text</th>\n",
       "      <th>sentiment</th>\n",
       "    </tr>\n",
       "  </thead>\n",
       "  <tbody>\n",
       "    <tr>\n",
       "      <th>0</th>\n",
       "      <td>f87dea47db</td>\n",
       "      <td>last session of the day</td>\n",
       "      <td>neutral</td>\n",
       "    </tr>\n",
       "    <tr>\n",
       "      <th>1</th>\n",
       "      <td>96d74cb729</td>\n",
       "      <td>shanghai is also really exciting precisely sky...</td>\n",
       "      <td>positive</td>\n",
       "    </tr>\n",
       "    <tr>\n",
       "      <th>2</th>\n",
       "      <td>eee518ae67</td>\n",
       "      <td>recession hit veronique branquinho she has to ...</td>\n",
       "      <td>negative</td>\n",
       "    </tr>\n",
       "    <tr>\n",
       "      <th>3</th>\n",
       "      <td>01082688c6</td>\n",
       "      <td>happy bday</td>\n",
       "      <td>positive</td>\n",
       "    </tr>\n",
       "    <tr>\n",
       "      <th>4</th>\n",
       "      <td>33987a8ee5</td>\n",
       "      <td>i like it</td>\n",
       "      <td>positive</td>\n",
       "    </tr>\n",
       "    <tr>\n",
       "      <th>...</th>\n",
       "      <td>...</td>\n",
       "      <td>...</td>\n",
       "      <td>...</td>\n",
       "    </tr>\n",
       "    <tr>\n",
       "      <th>3529</th>\n",
       "      <td>e5f0e6ef4b</td>\n",
       "      <td>its at am im very tired but i cant sleep but i...</td>\n",
       "      <td>negative</td>\n",
       "    </tr>\n",
       "    <tr>\n",
       "      <th>3530</th>\n",
       "      <td>416863ce47</td>\n",
       "      <td>all alone in this old house again thanks for t...</td>\n",
       "      <td>positive</td>\n",
       "    </tr>\n",
       "    <tr>\n",
       "      <th>3531</th>\n",
       "      <td>6332da480c</td>\n",
       "      <td>i know what you mean my little dog is sinking ...</td>\n",
       "      <td>negative</td>\n",
       "    </tr>\n",
       "    <tr>\n",
       "      <th>3532</th>\n",
       "      <td>df1baec676</td>\n",
       "      <td>sutra what is your next youtube video gonna be...</td>\n",
       "      <td>positive</td>\n",
       "    </tr>\n",
       "    <tr>\n",
       "      <th>3533</th>\n",
       "      <td>469e15c5a8</td>\n",
       "      <td>omgssh ang cute ng bby</td>\n",
       "      <td>positive</td>\n",
       "    </tr>\n",
       "  </tbody>\n",
       "</table>\n",
       "<p>3534 rows × 3 columns</p>\n",
       "</div>"
      ],
      "text/plain": [
       "          textID                                               text sentiment\n",
       "0     f87dea47db                            last session of the day   neutral\n",
       "1     96d74cb729  shanghai is also really exciting precisely sky...  positive\n",
       "2     eee518ae67  recession hit veronique branquinho she has to ...  negative\n",
       "3     01082688c6                                         happy bday  positive\n",
       "4     33987a8ee5                                          i like it  positive\n",
       "...          ...                                                ...       ...\n",
       "3529  e5f0e6ef4b  its at am im very tired but i cant sleep but i...  negative\n",
       "3530  416863ce47  all alone in this old house again thanks for t...  positive\n",
       "3531  6332da480c  i know what you mean my little dog is sinking ...  negative\n",
       "3532  df1baec676  sutra what is your next youtube video gonna be...  positive\n",
       "3533  469e15c5a8                             omgssh ang cute ng bby  positive\n",
       "\n",
       "[3534 rows x 3 columns]"
      ]
     },
     "execution_count": 55,
     "metadata": {
      "tags": []
     },
     "output_type": "execute_result"
    }
   ],
   "source": [
    "df"
   ]
  },
  {
   "cell_type": "code",
   "execution_count": null,
   "metadata": {
    "id": "XG9YI5ucqMVb"
   },
   "outputs": [],
   "source": [
    "#to use spellcheck\n",
    "\n",
    "from autocorrect import Speller\n",
    "spell = Speller(lang=\"en\")\n",
    "tokenizer = RegexpTokenizer(r'\\w+')\n",
    "\n",
    "df.text = df.text.map(lambda x:tokenizer.tokenize(x))  #remove punctuation and tokenize\n",
    "df.text = df.text.map(lambda x:[spell(i) for i in x])  #spell check"
   ]
  },
  {
   "cell_type": "code",
   "execution_count": null,
   "metadata": {
    "id": "IHz0jxZiqMli"
   },
   "outputs": [],
   "source": [
    "df.to_csv(\"data/preprocessed_train.csv\", index=False)"
   ]
  }
 ],
 "metadata": {
  "colab": {
   "authorship_tag": "ABX9TyOQzKMm5vAoyw/Nl6894f7Y",
   "collapsed_sections": [],
   "mount_file_id": "1jT_ju-_wnQgF9XO_vdfu5aQFXi4u9Vlt",
   "name": "0. Preprocessing.ipynb",
   "provenance": []
  },
  "kernelspec": {
   "display_name": "Python 3",
   "language": "python",
   "name": "python3"
  },
  "language_info": {
   "codemirror_mode": {
    "name": "ipython",
    "version": 3
   },
   "file_extension": ".py",
   "mimetype": "text/x-python",
   "name": "python",
   "nbconvert_exporter": "python",
   "pygments_lexer": "ipython3",
   "version": "3.8.10"
  }
 },
 "nbformat": 4,
 "nbformat_minor": 1
}
