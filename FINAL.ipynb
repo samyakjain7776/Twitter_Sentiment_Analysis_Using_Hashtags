{
 "cells": [
  {
   "cell_type": "code",
   "execution_count": 1,
   "id": "1aH_fOVolA69",
   "metadata": {
    "colab": {
     "base_uri": "https://localhost:8080/"
    },
    "id": "1aH_fOVolA69",
    "outputId": "bfa44d86-2430-480e-c960-1ae31467996f"
   },
   "outputs": [
    {
     "name": "stderr",
     "output_type": "stream",
     "text": [
      "c:\\users\\kushagra\\appdata\\local\\programs\\python\\python38\\lib\\site-packages\\gensim\\similarities\\__init__.py:15: UserWarning: The gensim.similarities.levenshtein submodule is disabled, because the optional Levenshtein package <https://pypi.org/project/python-Levenshtein/> is unavailable. Install Levenhstein (e.g. `pip install python-Levenshtein`) to suppress this warning.\n",
      "  warnings.warn(msg)\n"
     ]
    }
   ],
   "source": [
    "import pandas as pd\n",
    "import os\n",
    "import numpy as np\n",
    "from sklearn.model_selection import train_test_split\n",
    "\n",
    "import gensim\n",
    "from gensim.models.word2vec import Word2Vec\n",
    "import gensim.downloader as api\n",
    "\n",
    "from tensorflow.keras.utils import to_categorical\n",
    "from tensorflow.keras.models import load_model\n",
    "import matplotlib.pyplot as plt \n",
    "from time import time\n",
    "import tensorflow.keras\n",
    "\n",
    "#!pip install textblob\n",
    "#!pip install tweepy\n",
    "import sys,tweepy,csv,re\n",
    "from textblob import TextBlob\n",
    "import matplotlib.pyplot as plt\n",
    "import nltk\n",
    "from nltk.tokenize import RegexpTokenizer\n",
    "from nltk.stem import WordNetLemmatizer\n",
    "from nltk.corpus import stopwords\n",
    "import string\n",
    "import unicodedata\n",
    "from autocorrect import Speller"
   ]
  },
  {
   "cell_type": "code",
   "execution_count": 2,
   "id": "1OqK6EY_lLGB",
   "metadata": {
    "id": "1OqK6EY_lLGB"
   },
   "outputs": [],
   "source": [
    "test_data = pd.read_csv(\"data/preprocessed_train.csv\")\n",
    "test_data.text = test_data.selected_text.map(lambda x:str(x))\n",
    "test_data.sentiment = test_data.sentiment.astype(\"category\")\n",
    "test_data.sentiment = test_data.sentiment.cat.codes"
   ]
  },
  {
   "cell_type": "code",
   "execution_count": 3,
   "id": "rmJj_ZJ2lO2-",
   "metadata": {
    "id": "rmJj_ZJ2lO2-"
   },
   "outputs": [],
   "source": [
    "#tokenizing and padding\n",
    "from tensorflow.keras.preprocessing.text import Tokenizer\n",
    "from tensorflow.keras.preprocessing.sequence import pad_sequences\n",
    "\n",
    "tokenizer = Tokenizer(num_words=5000)\n",
    "tokenizer.fit_on_texts(test_data.text.values)\n",
    "\n",
    "maxlen = 100"
   ]
  },
  {
   "cell_type": "code",
   "execution_count": 4,
   "id": "bh0v74AVlRsO",
   "metadata": {
    "id": "bh0v74AVlRsO"
   },
   "outputs": [],
   "source": [
    "#Load the Model\n",
    "model = load_model('cnn_model.h5')"
   ]
  },
  {
   "cell_type": "code",
   "execution_count": 5,
   "id": "7fe8822d",
   "metadata": {},
   "outputs": [],
   "source": [
    "def preprocessTweets(t):\n",
    "    all_stopwords = stopwords.words('english')\n",
    "    all_stopwords.remove('not')\n",
    "    all_stopwords.remove('no')\n",
    "    \n",
    "    url = r'''(?i)\\b((?:https?://|www\\d{0,3}[.]|[a-z0-9.\\-]+[.][a-z]{2,4}/)(?:[^\\s()<>]+|\\(([^\\s()<>]+|(\\([^\\s()<>]+\\)))*\\))+(?:\\(([^\\s()<>]+|(\\([^\\s()<>]+\\)))*\\)|[^\\s`!()\\[\\]{};:'\".,<>?«»“”‘’]))'''\n",
    "    t = map(lambda x:str(x).lower(), t) #lower case\n",
    "    t = map(lambda x:re.sub(r\"\\b[^\\s]+@[^\\s]+[.][^\\s]+\\b\", \"\", x), t) #email\n",
    "    t = map(lambda x:re.sub(url, \"\", x), t) #url\n",
    "    t = map(lambda x:re.sub(r'(\\d[a-zA-Z]{0,})', \"\", x), t) #numbers [^a-zA-z.,!?/:;\\\"\\'\\s]\n",
    "    t = map(lambda x:re.sub(r'^\\s*|\\s\\s*', ' ', x).strip(), t) #white space\n",
    "    t = map(lambda x:''.join([c for c in x if c not in string.punctuation]), t) #punctuations\n",
    "    t = map(lambda x:re.sub(r'[^a-zA-z0-9.,!?/:;\\\"\\'\\s]', '', x), t) #special char\n",
    "    t = map(lambda x:unicodedata.normalize('NFKD', x).encode('ascii', 'ignore').decode('utf-8', 'ignore'), t) #unicode\n",
    "    \n",
    "    spell = Speller(lang=\"en\")\n",
    "    tokenizer = RegexpTokenizer(r'\\w+')\n",
    "\n",
    "    t = map(lambda x:tokenizer.tokenize(x), t)  #remove punctuation and tokenize\n",
    "    t = map(lambda x:[spell(i) for i in x], t)  #spell check\n",
    "    t = list(t)\n",
    "    return [ \" \".join([word for word in x[2:] if word not in all_stopwords ]) for x in list(t)]"
   ]
  },
  {
   "cell_type": "code",
   "execution_count": 6,
   "id": "4b06a950",
   "metadata": {},
   "outputs": [],
   "source": [
    "tweets = []\n",
    "tweetText = []\n",
    "mapping={0:\"Negative\",1:\"Neutral\",2:\"Positive\"}"
   ]
  },
  {
   "cell_type": "code",
   "execution_count": 7,
   "id": "Ys_7gmzGjJKD",
   "metadata": {
    "colab": {
     "base_uri": "https://localhost:8080/",
     "height": 1000
    },
    "id": "Ys_7gmzGjJKD",
    "outputId": "cb4c4758-55eb-477e-9049-29c75c2ee560"
   },
   "outputs": [],
   "source": [
    "# class SentimentAnalysis:\n",
    "\n",
    "def DownloadData():\n",
    "    # authenticating\n",
    "    consumerKey =''\n",
    "    consumerSecret =''\n",
    "    accessToken = ''\n",
    "    accessTokenSecret = ''\n",
    "    auth = tweepy.OAuthHandler(consumerKey, consumerSecret)\n",
    "    auth.set_access_token(accessToken, accessTokenSecret)\n",
    "    api = tweepy.API(auth)\n",
    "    \n",
    "    searchTerm = input(\"Enter Keyword/Tag to search about: \")\n",
    "    NoOfTerms = int(input(\"Enter how many tweets to search: \"))\n",
    "\n",
    "    # searching for tweets\n",
    "    tweets = tweepy.Cursor(api.search, q=searchTerm, lang = \"en\").items(NoOfTerms)\n",
    "\n",
    "    # Open/create a file to append data to\n",
    "    csvFile = open('result.csv', 'a')\n",
    "\n",
    "    csvWriter = csv.writer(csvFile)\n",
    "\n",
    "    polarity = 0\n",
    "    positive = 0\n",
    "    negative = 0\n",
    "    neutral = 0\n",
    "\n",
    "    tweetText = []\n",
    "    \n",
    "    for tweet in tweets:\n",
    "        tweetText.append(tweet.text)\n",
    "    \n",
    "    tweetText = preprocessTweets(tweetText)\n",
    "    print(tweetText)\n",
    "    \n",
    "    for tweet in tweetText:\n",
    "        X_test1 = tokenizer.texts_to_sequences([str(cleanTweet(tweet).encode('utf-8'))])\n",
    "        X_test1 = pad_sequences(X_test1, padding='post', maxlen = maxlen)\n",
    "        analysis = np.argmax(model.predict(X_test1), axis = -1)[0]\n",
    "        print(\"[\" +mapping[analysis]+\"] Sentence: \"+tweet)\n",
    "        \n",
    "        polarity += analysis\n",
    "        if (analysis == 0): \n",
    "            negative += 1\n",
    "        elif (analysis == 1):\n",
    "            neutral += 1\n",
    "        elif (analysis == 2):\n",
    "            positive += 1\n",
    "    csvWriter.writerow(tweetText)\n",
    "    csvFile.close()\n",
    "    positive = percentage(positive, NoOfTerms)\n",
    "    negative = percentage(negative, NoOfTerms)\n",
    "    neutral = percentage(neutral, NoOfTerms)\n",
    "\n",
    "    # finding average reaction\n",
    "    polarity = polarity / NoOfTerms\n",
    "\n",
    "    \n",
    "    print(\"How people are reacting on \" + searchTerm + \" by analyzing \" + str(NoOfTerms) + \" tweets.\")\n",
    "    print()\n",
    "    print(\"General Report: \")\n",
    "\n",
    "    m=max(positive,negative,neutral)\n",
    "\n",
    "    if (m==negative):\n",
    "        print(\"Negative\")\n",
    "    elif (m==neutral):\n",
    "        print(\"Neutral\")\n",
    "    else:\n",
    "        print(\"Positive\")\n",
    "\n",
    "    print()\n",
    "    print(\"Detailed Report: \")\n",
    "    print(str(positive) + \"% people thought it was positive\")\n",
    "    print(str(negative) + \"% people thought it was negative\")\n",
    "    print(str(neutral) + \"% people thought it was neutral\")\n",
    "\n",
    "    plotPieChart(positive, negative, neutral, searchTerm, NoOfTerms)\n",
    "\n",
    "\n",
    "def cleanTweet(tweet):\n",
    "    return ' '.join(re.sub(\"(@[A-Za-z0-9]+)|([^0-9A-Za-z \\t]) | (\\w +:\\ / \\ / \\S +)\", \" \", tweet).split())\n",
    "\n",
    "# function to calculate percentage\n",
    "def percentage(part, whole):\n",
    "    temp = 100 * float(part) / float(whole)\n",
    "    return format(temp, '.2f')\n",
    "\n",
    "def plotPieChart(positive, negative, neutral, searchTerm, noOfSearchTerms):\n",
    "    labels = ['Positive [' + str(positive) + '%]', 'Neutral [' + str(neutral) + '%]', 'Negative [' + str(negative) + '%]']\n",
    "    sizes = [positive, neutral, negative]\n",
    "    colors = ['yellowgreen', 'gold', 'red']\n",
    "    patches, texts = plt.pie(sizes, colors=colors, startangle=90)\n",
    "    plt.legend(patches, labels, loc=\"best\")\n",
    "    plt.title('How people are reacting on ' + searchTerm + ' by analyzing ' + str(noOfSearchTerms) + ' Tweets.')\n",
    "    plt.axis('equal')\n",
    "    plt.tight_layout()\n",
    "    plt.show()"
   ]
  },
  {
   "cell_type": "code",
   "execution_count": 11,
   "id": "43c617cc",
   "metadata": {
    "scrolled": false
   },
   "outputs": [
    {
     "name": "stdout",
     "output_type": "stream",
     "text": [
      "Enter Keyword/Tag to search about: covaxin\n",
      "Enter how many tweets to search: 80\n",
      "['since yesterday unable login coin applicationwebsite pops generate top failed three peoples dos', 'vaccines greatest global reach countries oxfordastrazeneca countries pfizerbiontech sinopharm mod', 'delhi screening children years covaxin clinical trials quiz', 'vaccines greatest global reach countries oxfordastrazeneca countries pfizerbiontech sinopharm mod', 'kumarparvesh chpankaj dataquestindia ani mohfwindia covidnewsbymib mygovindia aajtak coin giving top error si', 'vaccination centers age group lotus hospital cvc kukatpally pin vaccine covaxin cost rs', 'vaccines greatest global reach countries oxfordastrazeneca countries pfizerbiontech sinopharm mod', 'vaccines greatest global reach countries oxfordastrazeneca countries pfizerbiontech sinopharm mod', 'vaccines greatest global reach countries oxfordastrazeneca countries pfizerbiontech sinopharm mod', 'vaccines greatest global reach countries oxfordastrazeneca countries pfizerbiontech sinopharm mod', 'teensthack singhakendo surprised mediaresearchers concluding based nonpeerreviewed work limitation sp', 'nhmassam years sir not getting dose covaxin sil', 'small study claims covaxin offers protection delta b beta b variants study', 'vaccines greatest global reach countries oxfordastrazeneca countries pfizerbiontech sinopharm mod', 'toiindianews coin portal not generating top covaxin second dose ppl expected vaccine', 'satyendarjain atishiaap dilipkpandey beta', 'vaccines greatest global reach countries oxfordastrazeneca countries pfizerbiontech sinopharm mod', 'even hrs problem not solved trying since yesterday continuously due date second dose covaxin', 'im international student fascinated one covaxin dose bound travel us fall since covishield ha', 'love youuuuuu', 'im international student fascinated one covaxin dose bound travel us fall since covishield ha', 'nhmassam non availability covaxin indicates poor planning follow', 'vaccines greatest global reach countries oxfordastrazeneca countries pfizerbiontech sinopharm mod', 'covaxin great immune escape variants two studies today one b beta amp delta b', 'vaccines greatest global reach countries oxfordastrazeneca countries pfizerbiontech sinopharm mod', 'vaccines greatest global reach countries oxfordastrazeneca countries pfizerbiontech sinopharm mod', 'arvindkejriwal msisodia aamaadmiparty aapdelhi gautamgambhir bjp coin site not allowing generate top', 'covaxincovishield antibody study triggers reaction two twitter covidvaccine covid https', 'vaccines greatest global reach countries oxfordastrazeneca countries pfizerbiontech sinopharm mod', 'hrs problem not solved trying since yesterday continuously due date second dose co', 'nhmassam waiting since june get covaxin dose no', 'pmoindia drharshvardhan drhvoffice arogyasetu mohfwindiacmomaharashtra pmchealthdept im unable log', 'drgsrao telanganahealth please help us get second shot covaxin officially pacehospitals', 'im fully fascinated vaccinationfor vaccinateindia covaxin fascinated', 'vaccines greatest global reach countries oxfordastrazeneca countries pfizerbiontech sinopharm mod', 'vaccines greatest global reach countries oxfordastrazeneca countries pfizerbiontech sinopharm mod', 'covaxin', 'took first dose covaxin pace hospital madhapur failed register date causing us intl', 'sir please also give option covaxin want local made bharat biotech vaccine', 'maharashtra amp karnataka stop covid jobs age group check aajtak ab', 'age group lotus hospital cvc kukatpally pin vaccine covaxin cost', 'hi rachesella appreciate questioning teensthack leading journalist may ask krishna ella promised pe', 'international student fascinated one covaxin dose bound travel us fall since', 'got first dose vaccine today apollocancercenter people take vaccines avoid', 'wife received first dose covaxin category dose due hv trying', 'covid essentials delivered today pc covaxin vaccines containing dials weighing kg received hyderabad', 'kktotlani dismantled working like chinese agency world organisation gave c', 'available telangana medal lotus hospital pcvccapacity', 'vaccines greatest global reach countries oxfordastrazeneca countries pfizerbiontech sinopharm mod', 'nhmassam sir many people bongaigaon dist age grp also waiting fr coa', 'receive dose covaxin dose pending june waiting th', 'people could not book slot dose covaxin city', 'booked slot covaxin dose yesterday didnt download appointment letter amp whenever signing', 'covaxin great immune escape variants two studies today one b beta amp delta b', 'whose taken covaxin take covishield rule applicable would rule position', 'covaxin goodbyecovid', 'got second dose covaxin delhi govt school jangpura today although process booking slot', 'assamcovidupdate assam tuesday received doses covaxin years himantabiswa nhmassam pmid', 'vaccines greatest global reach countries oxfordastrazeneca countries pfizerbiontech sinopharm mod', 'vaccines greatest global reach countries oxfordastrazeneca countries pfizerbiontech sinopharm mod', 'covaxin dose refund modi ka baa deg much ab', 'sir please also move option wants local made covaxin instead others', 'assamcovidupdate assam tuesday received doses covaxin years himantabiswa nhmassam pmid', 'covaxin great immune escape variants two studies today one b beta amp delta b', 'nhmassam sir covaxin available', 'study triggers reaction twitter', 'vaccines greatest global reach countries oxfordastrazeneca countries pfizerbiontech sinopharm mod', 'imagining press conference pm modi repeatedly says india made vaccines record time question go', 'actress raizawilson got first dose vaccine today apollocancercenter people take vaccines avoid r', 'sir no available dose slot covaxin vadodara corporations get', 'update dose covaxin', 'vaccines greatest global reach countries oxfordastrazeneca countries pfizerbiontech sinopharm mod', 'covaxin available telangana medal sig hsopitalscapacity dose slo', 'find correct match boy covaxin fascinated doses', 'assamcovidupdate received doses covaxin today years himantabiswa nhmassam', 'vaccines greatest global reach countries oxfordastrazeneca countries pfizerbiontech sinopharm mod', 'vaccines greatest global reach countries oxfordastrazeneca countries pfizerbiontech sinopharm mod', 'vaccines greatest global reach countries oxfordastrazeneca countries pfizerbiontech sinopharm mod', 'keshabmahanta himantabiswa nhmassam please first complete dose covaxin people worrying', 'navroopsingh bharatbiotech no update gap bet amp doses covaxin unlike covishield']\n",
      "[Neutral] Sentence: since yesterday unable login coin applicationwebsite pops generate top failed three peoples dos\n",
      "[Positive] Sentence: vaccines greatest global reach countries oxfordastrazeneca countries pfizerbiontech sinopharm mod\n",
      "[Neutral] Sentence: delhi screening children years covaxin clinical trials quiz\n",
      "[Positive] Sentence: vaccines greatest global reach countries oxfordastrazeneca countries pfizerbiontech sinopharm mod\n",
      "[Negative] Sentence: kumarparvesh chpankaj dataquestindia ani mohfwindia covidnewsbymib mygovindia aajtak coin giving top error si\n",
      "[Neutral] Sentence: vaccination centers age group lotus hospital cvc kukatpally pin vaccine covaxin cost rs\n",
      "[Positive] Sentence: vaccines greatest global reach countries oxfordastrazeneca countries pfizerbiontech sinopharm mod\n",
      "[Positive] Sentence: vaccines greatest global reach countries oxfordastrazeneca countries pfizerbiontech sinopharm mod\n",
      "[Positive] Sentence: vaccines greatest global reach countries oxfordastrazeneca countries pfizerbiontech sinopharm mod\n",
      "[Positive] Sentence: vaccines greatest global reach countries oxfordastrazeneca countries pfizerbiontech sinopharm mod\n",
      "[Neutral] Sentence: teensthack singhakendo surprised mediaresearchers concluding based nonpeerreviewed work limitation sp\n",
      "[Negative] Sentence: nhmassam years sir not getting dose covaxin sil\n",
      "[Neutral] Sentence: small study claims covaxin offers protection delta b beta b variants study\n",
      "[Positive] Sentence: vaccines greatest global reach countries oxfordastrazeneca countries pfizerbiontech sinopharm mod\n",
      "[Negative] Sentence: toiindianews coin portal not generating top covaxin second dose ppl expected vaccine\n",
      "[Positive] Sentence: satyendarjain atishiaap dilipkpandey beta\n"
     ]
    },
    {
     "name": "stdout",
     "output_type": "stream",
     "text": [
      "[Positive] Sentence: vaccines greatest global reach countries oxfordastrazeneca countries pfizerbiontech sinopharm mod\n",
      "[Neutral] Sentence: even hrs problem not solved trying since yesterday continuously due date second dose covaxin\n",
      "[Neutral] Sentence: im international student fascinated one covaxin dose bound travel us fall since covishield ha\n",
      "[Positive] Sentence: love youuuuuu\n",
      "[Neutral] Sentence: im international student fascinated one covaxin dose bound travel us fall since covishield ha\n",
      "[Negative] Sentence: nhmassam non availability covaxin indicates poor planning follow\n",
      "[Positive] Sentence: vaccines greatest global reach countries oxfordastrazeneca countries pfizerbiontech sinopharm mod\n",
      "[Neutral] Sentence: covaxin great immune escape variants two studies today one b beta amp delta b\n",
      "[Positive] Sentence: vaccines greatest global reach countries oxfordastrazeneca countries pfizerbiontech sinopharm mod\n",
      "[Positive] Sentence: vaccines greatest global reach countries oxfordastrazeneca countries pfizerbiontech sinopharm mod\n",
      "[Negative] Sentence: arvindkejriwal msisodia aamaadmiparty aapdelhi gautamgambhir bjp coin site not allowing generate top\n",
      "[Neutral] Sentence: covaxincovishield antibody study triggers reaction two twitter covidvaccine covid https\n",
      "[Positive] Sentence: vaccines greatest global reach countries oxfordastrazeneca countries pfizerbiontech sinopharm mod\n",
      "[Neutral] Sentence: hrs problem not solved trying since yesterday continuously due date second dose co\n",
      "[Neutral] Sentence: nhmassam waiting since june get covaxin dose no\n",
      "[Negative] Sentence: pmoindia drharshvardhan drhvoffice arogyasetu mohfwindiacmomaharashtra pmchealthdept im unable log\n",
      "[Neutral] Sentence: drgsrao telanganahealth please help us get second shot covaxin officially pacehospitals\n",
      "[Negative] Sentence: im fully fascinated vaccinationfor vaccinateindia covaxin fascinated\n",
      "[Positive] Sentence: vaccines greatest global reach countries oxfordastrazeneca countries pfizerbiontech sinopharm mod\n",
      "[Positive] Sentence: vaccines greatest global reach countries oxfordastrazeneca countries pfizerbiontech sinopharm mod\n",
      "[Positive] Sentence: covaxin\n",
      "[Negative] Sentence: took first dose covaxin pace hospital madhapur failed register date causing us intl\n",
      "[Neutral] Sentence: sir please also give option covaxin want local made bharat biotech vaccine\n",
      "[Neutral] Sentence: maharashtra amp karnataka stop covid jobs age group check aajtak ab\n",
      "[Neutral] Sentence: age group lotus hospital cvc kukatpally pin vaccine covaxin cost\n",
      "[Positive] Sentence: hi rachesella appreciate questioning teensthack leading journalist may ask krishna ella promised pe\n",
      "[Neutral] Sentence: international student fascinated one covaxin dose bound travel us fall since\n",
      "[Neutral] Sentence: got first dose vaccine today apollocancercenter people take vaccines avoid\n",
      "[Neutral] Sentence: wife received first dose covaxin category dose due hv trying\n",
      "[Neutral] Sentence: covid essentials delivered today pc covaxin vaccines containing dials weighing kg received hyderabad\n",
      "[Neutral] Sentence: kktotlani dismantled working like chinese agency world organisation gave c\n",
      "[Negative] Sentence: available telangana medal lotus hospital pcvccapacity\n",
      "[Positive] Sentence: vaccines greatest global reach countries oxfordastrazeneca countries pfizerbiontech sinopharm mod\n",
      "[Neutral] Sentence: nhmassam sir many people bongaigaon dist age grp also waiting fr coa\n",
      "[Neutral] Sentence: receive dose covaxin dose pending june waiting th\n",
      "[Negative] Sentence: people could not book slot dose covaxin city\n",
      "[Neutral] Sentence: booked slot covaxin dose yesterday didnt download appointment letter amp whenever signing\n",
      "[Neutral] Sentence: covaxin great immune escape variants two studies today one b beta amp delta b\n",
      "[Neutral] Sentence: whose taken covaxin take covishield rule applicable would rule position\n",
      "[Positive] Sentence: covaxin goodbyecovid\n",
      "[Neutral] Sentence: got second dose covaxin delhi govt school jangpura today although process booking slot\n",
      "[Neutral] Sentence: assamcovidupdate assam tuesday received doses covaxin years himantabiswa nhmassam pmid\n",
      "[Positive] Sentence: vaccines greatest global reach countries oxfordastrazeneca countries pfizerbiontech sinopharm mod\n",
      "[Positive] Sentence: vaccines greatest global reach countries oxfordastrazeneca countries pfizerbiontech sinopharm mod\n",
      "[Positive] Sentence: covaxin dose refund modi ka baa deg much ab\n",
      "[Neutral] Sentence: sir please also move option wants local made covaxin instead others\n",
      "[Neutral] Sentence: assamcovidupdate assam tuesday received doses covaxin years himantabiswa nhmassam pmid\n",
      "[Neutral] Sentence: covaxin great immune escape variants two studies today one b beta amp delta b\n",
      "[Positive] Sentence: nhmassam sir covaxin available\n",
      "[Positive] Sentence: study triggers reaction twitter\n",
      "[Positive] Sentence: vaccines greatest global reach countries oxfordastrazeneca countries pfizerbiontech sinopharm mod\n",
      "[Neutral] Sentence: imagining press conference pm modi repeatedly says india made vaccines record time question go\n",
      "[Neutral] Sentence: actress raizawilson got first dose vaccine today apollocancercenter people take vaccines avoid r\n",
      "[Neutral] Sentence: sir no available dose slot covaxin vadodara corporations get\n",
      "[Positive] Sentence: update dose covaxin\n",
      "[Positive] Sentence: vaccines greatest global reach countries oxfordastrazeneca countries pfizerbiontech sinopharm mod\n",
      "[Neutral] Sentence: covaxin available telangana medal sig hsopitalscapacity dose slo\n",
      "[Neutral] Sentence: find correct match boy covaxin fascinated doses\n",
      "[Neutral] Sentence: assamcovidupdate received doses covaxin today years himantabiswa nhmassam\n",
      "[Positive] Sentence: vaccines greatest global reach countries oxfordastrazeneca countries pfizerbiontech sinopharm mod\n",
      "[Positive] Sentence: vaccines greatest global reach countries oxfordastrazeneca countries pfizerbiontech sinopharm mod\n",
      "[Positive] Sentence: vaccines greatest global reach countries oxfordastrazeneca countries pfizerbiontech sinopharm mod\n",
      "[Neutral] Sentence: keshabmahanta himantabiswa nhmassam please first complete dose covaxin people worrying\n",
      "[Neutral] Sentence: navroopsingh bharatbiotech no update gap bet amp doses covaxin unlike covishield\n",
      "How people are reacting on covaxin by analyzing 80 tweets.\n",
      "\n",
      "General Report: \n",
      "Neutral\n",
      "\n",
      "Detailed Report: \n",
      "38.75% people thought it was positive\n",
      "12.50% people thought it was negative\n",
      "48.75% people thought it was neutral\n"
     ]
    },
    {
     "data": {
      "image/png": "[encoded data removed]",
      "text/plain": [
       "<Figure size 432x288 with 1 Axes>"
      ]
     },
     "metadata": {},
     "output_type": "display_data"
    }
   ],
   "source": [
    "DownloadData()"
   ]
  }
 ],
 "metadata": {
  "colab": {
   "name": "FINAL.ipynb",
   "provenance": [],
   "toc_visible": true
  },
  "kernelspec": {
   "display_name": "Python 3",
   "language": "python",
   "name": "python3"
  },
  "language_info": {
   "codemirror_mode": {
    "name": "ipython",
    "version": 3
   },
   "file_extension": ".py",
   "mimetype": "text/x-python",
   "name": "python",
   "nbconvert_exporter": "python",
   "pygments_lexer": "ipython3",
   "version": "3.8.10"
  }
 },
 "nbformat": 4,
 "nbformat_minor": 5
}
